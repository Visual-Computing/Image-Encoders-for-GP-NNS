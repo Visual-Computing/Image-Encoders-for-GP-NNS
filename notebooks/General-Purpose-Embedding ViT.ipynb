{
 "cells": [
  {
   "cell_type": "code",
   "execution_count": 1,
   "id": "b784af01",
   "metadata": {},
   "outputs": [],
   "source": [
    "from ViT_Model import create_model"
   ]
  },
  {
   "cell_type": "code",
   "execution_count": 3,
   "id": "8985d1be",
   "metadata": {},
   "outputs": [],
   "source": [
    "import torch\n",
    "import numpy as np\n",
    "from torchvision import transforms\n",
    "\n",
    "device = torch.device(\"cuda:0\")"
   ]
  },
  {
   "cell_type": "code",
   "execution_count": 4,
   "id": "365ff417",
   "metadata": {},
   "outputs": [],
   "source": [
    "image_size = 336\n",
    "resize_to = int(image_size * 1.125)\n",
    "ppc_fn = transforms.Compose([\n",
    "            transforms.Resize((resize_to, resize_to),  interpolation=3),\n",
    "            transforms.CenterCrop(image_size),\n",
    "            transforms.ToTensor(),\n",
    "            transforms.Normalize((0.4850, 0.4560, 0.4060), (0.2290, 0.2240, 0.2250)),\n",
    "            transforms.ConvertImageDtype(torch.float16)\n",
    "        ])"
   ]
  },
  {
   "cell_type": "code",
   "execution_count": 5,
   "id": "30f16b0f",
   "metadata": {},
   "outputs": [],
   "source": [
    "model = create_model(check_pth=\"/media/Data/networks/Pytorch/CLIP-FT/GPRet_ViTL.pth\")\n",
    "model.to(device)\n",
    "model.eval();"
   ]
  },
  {
   "cell_type": "code",
   "execution_count": 15,
   "id": "fc941c1a",
   "metadata": {},
   "outputs": [],
   "source": [
    "example_input = torch.rand(1, 3, 336, 336).half().to(device)\n",
    "out = model(example_input)"
   ]
  },
  {
   "cell_type": "code",
   "execution_count": 16,
   "id": "405eefe4",
   "metadata": {},
   "outputs": [
    {
     "data": {
      "text/plain": [
       "torch.Size([1, 1024])"
      ]
     },
     "execution_count": 16,
     "metadata": {},
     "output_type": "execute_result"
    }
   ],
   "source": [
    "out.shape"
   ]
  },
  {
   "cell_type": "code",
   "execution_count": 19,
   "id": "426c7d0a",
   "metadata": {},
   "outputs": [],
   "source": [
    "# binary vectors\n",
    "bv = (out < 0).int()"
   ]
  },
  {
   "cell_type": "code",
   "execution_count": 20,
   "id": "9cdcafa2",
   "metadata": {},
   "outputs": [
    {
     "data": {
      "text/plain": [
       "tensor([[0, 0, 0,  ..., 1, 0, 0]], device='cuda:0', dtype=torch.int32)"
      ]
     },
     "execution_count": 20,
     "metadata": {},
     "output_type": "execute_result"
    }
   ],
   "source": [
    "bv.shape"
   ]
  },
  {
   "cell_type": "code",
   "execution_count": 21,
   "id": "505f9d2f",
   "metadata": {},
   "outputs": [
    {
     "data": {
      "text/plain": [
       "torch.Size([1, 1024])"
      ]
     },
     "execution_count": 21,
     "metadata": {},
     "output_type": "execute_result"
    }
   ],
   "source": [
    "bv.shape"
   ]
  },
  {
   "cell_type": "code",
   "execution_count": 22,
   "id": "2f505ca6",
   "metadata": {},
   "outputs": [
    {
     "name": "stderr",
     "output_type": "stream",
     "text": [
      "/home/administrator/anaconda3/envs/pytorch/lib/python3.8/site-packages/torch/nn/functional.py:4135: TracerWarning: Converting a tensor to a Python boolean might cause the trace to be incorrect. We can't record the data flow of Python values, so this value will be treated as a constant in the future. This means that the trace might not generalize to other inputs!\n",
      "  assert embed_dim == embed_dim_to_check\n",
      "/home/administrator/anaconda3/envs/pytorch/lib/python3.8/site-packages/torch/nn/functional.py:4137: TracerWarning: Converting a tensor to a Python boolean might cause the trace to be incorrect. We can't record the data flow of Python values, so this value will be treated as a constant in the future. This means that the trace might not generalize to other inputs!\n",
      "  assert key.size(0) == value.size(0) and key.size(1) == value.size(1)\n",
      "/home/administrator/anaconda3/envs/pytorch/lib/python3.8/site-packages/torch/nn/functional.py:4140: TracerWarning: Converting a tensor to a Python boolean might cause the trace to be incorrect. We can't record the data flow of Python values, so this value will be treated as a constant in the future. This means that the trace might not generalize to other inputs!\n",
      "  assert head_dim * num_heads == embed_dim, \"embed_dim must be divisible by num_heads\"\n",
      "/home/administrator/anaconda3/envs/pytorch/lib/python3.8/site-packages/torch/nn/functional.py:4141: TracerWarning: Converting a tensor to a Python float might cause the trace to be incorrect. We can't record the data flow of Python values, so this value will be treated as a constant in the future. This means that the trace might not generalize to other inputs!\n",
      "  scaling = float(head_dim) ** -0.5\n",
      "/home/administrator/anaconda3/envs/pytorch/lib/python3.8/site-packages/torch/nn/functional.py:4295: TracerWarning: Converting a tensor to a Python boolean might cause the trace to be incorrect. We can't record the data flow of Python values, so this value will be treated as a constant in the future. This means that the trace might not generalize to other inputs!\n",
      "  assert list(attn_output_weights.size()) == [bsz * num_heads, tgt_len, src_len]\n",
      "/home/administrator/anaconda3/envs/pytorch/lib/python3.8/site-packages/torch/nn/functional.py:4317: TracerWarning: Converting a tensor to a Python boolean might cause the trace to be incorrect. We can't record the data flow of Python values, so this value will be treated as a constant in the future. This means that the trace might not generalize to other inputs!\n",
      "  assert list(attn_output.size()) == [bsz * num_heads, tgt_len, head_dim]\n"
     ]
    }
   ],
   "source": [
    "# JIT Version erstellen\n",
    "gpr_vit_jit = torch.jit.trace(model, example_input).to(torch.float16)"
   ]
  },
  {
   "cell_type": "code",
   "execution_count": null,
   "id": "ead78f0c",
   "metadata": {},
   "outputs": [],
   "source": []
  }
 ],
 "metadata": {
  "kernelspec": {
   "display_name": "Python [conda env:pytorch]",
   "language": "python",
   "name": "conda-env-pytorch-py"
  },
  "language_info": {
   "codemirror_mode": {
    "name": "ipython",
    "version": 3
   },
   "file_extension": ".py",
   "mimetype": "text/x-python",
   "name": "python",
   "nbconvert_exporter": "python",
   "pygments_lexer": "ipython3",
   "version": "3.8.12"
  }
 },
 "nbformat": 4,
 "nbformat_minor": 5
}
