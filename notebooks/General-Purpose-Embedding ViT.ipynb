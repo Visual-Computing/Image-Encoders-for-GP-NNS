{
 "cells": [
  {
   "cell_type": "code",
   "execution_count": null,
   "id": "b784af01",
   "metadata": {},
   "outputs": [],
   "source": [
    "from src.models.ViT_Model import create_model\n",
    "import torch\n",
    "import numpy as np\n",
    "\n",
    "device = torch.device(\"cuda:0\")"
   ]
  },
  {
   "cell_type": "code",
   "execution_count": null,
   "id": "30f16b0f",
   "metadata": {},
   "outputs": [],
   "source": [
    "check_pth = \"/path/to/downloaded/checkpoint.pth\"\n",
    "model, transform_fn = create_model(model_name = \"ViT-L\", check_pth=check_pth)\n",
    "model.to(device)\n",
    "model.eval();"
   ]
  },
  {
   "cell_type": "code",
   "execution_count": null,
   "id": "fc941c1a",
   "metadata": {},
   "outputs": [],
   "source": [
    "example_input = torch.rand(1, 3, 336, 336).half().to(device)\n",
    "out = model(example_input)"
   ]
  },
  {
   "cell_type": "code",
   "execution_count": null,
   "id": "405eefe4",
   "metadata": {},
   "outputs": [],
   "source": [
    "out.shape"
   ]
  },
  {
   "cell_type": "code",
   "execution_count": null,
   "id": "426c7d0a",
   "metadata": {},
   "outputs": [],
   "source": [
    "# binary embeddings\n",
    "bv = np.uint8((out > 0).int().cpu().numpy())"
   ]
  }
 ],
 "metadata": {
  "kernelspec": {
   "display_name": "pytorch",
   "language": "python",
   "name": "python3"
  },
  "language_info": {
   "codemirror_mode": {
    "name": "ipython",
    "version": 3
   },
   "file_extension": ".py",
   "mimetype": "text/x-python",
   "name": "python",
   "nbconvert_exporter": "python",
   "pygments_lexer": "ipython3",
   "version": "3.9.7"
  }
 },
 "nbformat": 4,
 "nbformat_minor": 5
}
